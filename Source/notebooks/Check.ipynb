{
 "cells": [
  {
   "metadata": {
    "ExecuteTime": {
     "end_time": "2024-08-09T22:59:54.628327Z",
     "start_time": "2024-08-09T22:59:53.532628Z"
    }
   },
   "cell_type": "code",
   "source": [
    "import os\n",
    "import wfdb\n",
    "import scipy\n",
    "import numpy as np\n",
    "import pandas as pd\n",
    "import matplotlib.pylab as plt\n",
    "from tqdm import tqdm"
   ],
   "id": "8720f20c15564032",
   "outputs": [],
   "execution_count": 1
  },
  {
   "metadata": {
    "ExecuteTime": {
     "end_time": "2024-08-09T22:59:54.643865Z",
     "start_time": "2024-08-09T22:59:54.628327Z"
    }
   },
   "cell_type": "code",
   "source": [
    "def resample_sig(x, fs, fs_target):\n",
    "    t = np.arange(x.shape[0]).astype(\"float64\")\n",
    "\n",
    "    if fs == fs_target:\n",
    "        return x, t\n",
    "\n",
    "    new_length = int(x.shape[0] * fs_target / fs)\n",
    "    # Resample the array if NaN values are present\n",
    "    if np.isnan(x).any():\n",
    "        x = pd.Series(x.reshape((-1,))).interpolate().values\n",
    "    resampled_x, resampled_t = scipy.signal.resample(x, num=new_length, t=t)\n",
    "    assert (\n",
    "        resampled_x.shape == resampled_t.shape\n",
    "        and resampled_x.shape[0] == new_length\n",
    "    )\n",
    "    assert np.all(np.diff(resampled_t) > 0)\n",
    "\n",
    "    return resampled_x, resampled_t"
   ],
   "id": "48861608f7942812",
   "outputs": [],
   "execution_count": 2
  },
  {
   "metadata": {
    "ExecuteTime": {
     "end_time": "2024-08-07T23:19:06.958747Z",
     "start_time": "2024-08-07T23:18:02.312148Z"
    }
   },
   "cell_type": "code",
   "source": [
    "def preprocess(init_address, final_address, length=7500):\n",
    "    files = [file[:-4] for file in os.listdir(init_address) if file.endswith('.dat')]\n",
    "\n",
    "    classes = {'W': 0, '1': 1, '2': 2, '3': 3, '4': 3, 'R': 4}\n",
    "\n",
    "    data = []\n",
    "    for file in tqdm(files):\n",
    "        signal = wfdb.rdrecord(init_address + file, channels=[0]).p_signal\n",
    "        segments = wfdb.rdann(init_address + file, extension='st').sample\n",
    "        stages = wfdb.rdann(init_address + file, extension='st').aux_note\n",
    "        \n",
    "        for idx, start in enumerate(segments):\n",
    "            if start == 1:\n",
    "                start = 0\n",
    "            else:\n",
    "                pass\n",
    "            \n",
    "            if stages[idx][0] != 'M':\n",
    "                resampled_x, _ = resample_sig(signal[start:start+length, 0], 250, 100)\n",
    "                data.append(np.append(resampled_x, classes[stages[idx][0]]))\n",
    "\n",
    "    df = pd.DataFrame(np.array(data))\n",
    "    df.to_csv(final_address)\n",
    "    \n",
    "    print(f\"\\nThe data has been saved in {final_address}.\")\n",
    "    \n",
    "preprocess('../../Dataset/Sleep/', '../dataset/dataset.csv' ,length=7500)"
   ],
   "id": "bf1d777adf84c4a1",
   "outputs": [
    {
     "name": "stderr",
     "output_type": "stream",
     "text": [
      "100%|██████████| 18/18 [00:11<00:00,  1.62it/s]\n"
     ]
    },
    {
     "name": "stdout",
     "output_type": "stream",
     "text": [
      "\n",
      "The data has been saved in ../dataset/dataset.csv.\n"
     ]
    }
   ],
   "execution_count": 59
  },
  {
   "metadata": {
    "ExecuteTime": {
     "end_time": "2024-08-09T23:00:06.598318Z",
     "start_time": "2024-08-09T22:59:58.386491Z"
    }
   },
   "cell_type": "code",
   "source": [
    "df = pd.read_csv('../dataset/dataset.csv')\n",
    "df = df.drop(['Unnamed: 0'], axis=1)\n",
    "\n",
    "labels = [int(i) for i in list(df['3000'])]\n",
    "\n",
    "print(f\"Number od signals with the label 0 is: {labels.count(0)}\")\n",
    "print(f\"Number od signals with the label 1 is: {labels.count(1)}\")\n",
    "print(f\"Number od signals with the label 2 is: {labels.count(2)}\")\n",
    "print(f\"Number od signals with the label 3 is: {labels.count(3)}\")\n",
    "print(f\"Number od signals with the label 4 is: {labels.count(4)}\")"
   ],
   "id": "45ed90e638b2cbea",
   "outputs": [
    {
     "name": "stdout",
     "output_type": "stream",
     "text": [
      "Number od signals with the label 0 is: 3115\n",
      "Number od signals with the label 1 is: 1815\n",
      "Number od signals with the label 2 is: 3887\n",
      "Number od signals with the label 3 is: 664\n",
      "Number od signals with the label 4 is: 700\n"
     ]
    }
   ],
   "execution_count": 3
  },
  {
   "metadata": {
    "ExecuteTime": {
     "end_time": "2024-08-09T12:21:47.403555Z",
     "start_time": "2024-08-09T12:21:47.372310Z"
    }
   },
   "cell_type": "code",
   "source": "df.shape",
   "id": "e5daf4240ae6ba40",
   "outputs": [
    {
     "data": {
      "text/plain": [
       "(10181, 3001)"
      ]
     },
     "execution_count": 7,
     "metadata": {},
     "output_type": "execute_result"
    }
   ],
   "execution_count": 7
  },
  {
   "metadata": {
    "ExecuteTime": {
     "end_time": "2024-08-09T23:00:24.360058Z",
     "start_time": "2024-08-09T23:00:24.344022Z"
    }
   },
   "cell_type": "code",
   "source": "train = df.iloc[:int(len(df) * 0.8), :]",
   "id": "2dcf2ca3d5896859",
   "outputs": [],
   "execution_count": 6
  },
  {
   "metadata": {
    "ExecuteTime": {
     "end_time": "2024-08-09T12:21:40.782166Z",
     "start_time": "2024-08-09T12:21:40.766537Z"
    }
   },
   "cell_type": "code",
   "source": "train.shape",
   "id": "1e2b1b8ab2a1da4d",
   "outputs": [
    {
     "data": {
      "text/plain": [
       "(8144, 3001)"
      ]
     },
     "execution_count": 6,
     "metadata": {},
     "output_type": "execute_result"
    }
   ],
   "execution_count": 6
  },
  {
   "metadata": {
    "ExecuteTime": {
     "end_time": "2024-08-09T12:32:26.182876Z",
     "start_time": "2024-08-09T12:32:26.150948Z"
    }
   },
   "cell_type": "code",
   "source": "np.array(train.iloc[0][:3000])",
   "id": "5edfdc6a7a877950",
   "outputs": [
    {
     "data": {
      "text/plain": [
       "array([0.0711013 , 0.14623332, 0.3313848 , ..., 0.04879917, 0.04797405,\n",
       "       0.06416583])"
      ]
     },
     "execution_count": 11,
     "metadata": {},
     "output_type": "execute_result"
    }
   ],
   "execution_count": 11
  },
  {
   "metadata": {
    "ExecuteTime": {
     "end_time": "2024-08-09T14:47:30.002299Z",
     "start_time": "2024-08-09T14:47:29.955019Z"
    }
   },
   "cell_type": "code",
   "source": [
    "from ssqueezepy import ssq_stft\n",
    "\n",
    "Twxo, TF, *_ = ssq_stft(np.array(train.iloc[0][:512]))"
   ],
   "id": "73df8af9cba1732d",
   "outputs": [],
   "execution_count": 29
  },
  {
   "metadata": {
    "ExecuteTime": {
     "end_time": "2024-08-09T14:47:30.793961Z",
     "start_time": "2024-08-09T14:47:30.551871Z"
    }
   },
   "cell_type": "code",
   "source": "plt.imshow(np.abs(TF))",
   "id": "1666aa0b5a88f25b",
   "outputs": [
    {
     "data": {
      "text/plain": [
       "<matplotlib.image.AxesImage at 0x24f04d9d270>"
      ]
     },
     "execution_count": 30,
     "metadata": {},
     "output_type": "execute_result"
    },
    {
     "data": {
      "text/plain": [
       "<Figure size 640x480 with 1 Axes>"
      ],
      "image/png": "[encoded data removed]"
     },
     "metadata": {},
     "output_type": "display_data"
    }
   ],
   "execution_count": 30
  },
  {
   "metadata": {
    "ExecuteTime": {
     "end_time": "2024-08-09T22:47:10.493492Z",
     "start_time": "2024-08-09T22:47:10.483499Z"
    }
   },
   "cell_type": "code",
   "source": "np.abs(TF).min()",
   "id": "c629090f75eea02d",
   "outputs": [
    {
     "data": {
      "text/plain": [
       "9.6721575e-05"
      ]
     },
     "execution_count": 31,
     "metadata": {},
     "output_type": "execute_result"
    }
   ],
   "execution_count": 31
  },
  {
   "metadata": {
    "ExecuteTime": {
     "end_time": "2024-08-09T23:00:12.737679Z",
     "start_time": "2024-08-09T23:00:12.722157Z"
    }
   },
   "cell_type": "code",
   "source": [
    "import os\n",
    "\n",
    "os.chdir('../')"
   ],
   "id": "6d6ac03cf84d57ef",
   "outputs": [],
   "execution_count": 4
  },
  {
   "metadata": {
    "ExecuteTime": {
     "end_time": "2024-08-09T23:00:27.998432Z",
     "start_time": "2024-08-09T23:00:27.967170Z"
    }
   },
   "cell_type": "code",
   "source": [
    "from dataloader.dataloader import DataGenerator\n",
    "\n",
    "my_generator = DataGenerator(data=train, \n",
    "                             image_shape=(256, 512, 1), \n",
    "                             signal_shape=(3000, 1), \n",
    "                             batch_size=4, \n",
    "                             cls_num=5, \n",
    "                             width=512, \n",
    "                             overlap=17)"
   ],
   "id": "4f8b9aaa0cc290db",
   "outputs": [],
   "execution_count": 7
  },
  {
   "metadata": {
    "ExecuteTime": {
     "end_time": "2024-08-09T23:00:41.258045Z",
     "start_time": "2024-08-09T23:00:40.450623Z"
    }
   },
   "cell_type": "code",
   "source": "a = next(iter(my_generator))",
   "id": "ef3b98871f7ad3b6",
   "outputs": [],
   "execution_count": 9
  },
  {
   "metadata": {
    "ExecuteTime": {
     "end_time": "2024-08-09T23:02:05.877133Z",
     "start_time": "2024-08-09T23:02:05.845875Z"
    }
   },
   "cell_type": "code",
   "source": [
    "print(a[0][0][0].shape)\n",
    "print(a[0][0][0].max())\n",
    "print(a[0][0][0].min())"
   ],
   "id": "22d5b73a4bc88766",
   "outputs": [
    {
     "name": "stdout",
     "output_type": "stream",
     "text": [
      "(6, 256, 512, 1)\n",
      "1.0\n",
      "0.0\n"
     ]
    }
   ],
   "execution_count": 16
  },
  {
   "metadata": {
    "ExecuteTime": {
     "end_time": "2024-08-09T23:02:33.119622Z",
     "start_time": "2024-08-09T23:02:33.103990Z"
    }
   },
   "cell_type": "code",
   "source": [
    "print(a[0][1][0].shape)\n",
    "print(a[0][1][0].max())\n",
    "print(a[0][1][0].min())"
   ],
   "id": "29f2bdd5810a8319",
   "outputs": [
    {
     "name": "stdout",
     "output_type": "stream",
     "text": [
      "(3000, 1)\n",
      "1.0\n",
      "0.0\n"
     ]
    }
   ],
   "execution_count": 17
  },
  {
   "metadata": {
    "ExecuteTime": {
     "end_time": "2024-08-09T23:03:06.445803Z",
     "start_time": "2024-08-09T23:03:06.414557Z"
    }
   },
   "cell_type": "code",
   "source": "print(a[1])",
   "id": "429820eda6fe85e6",
   "outputs": [
    {
     "name": "stdout",
     "output_type": "stream",
     "text": [
      "[[0. 0. 0. 1. 0.]\n",
      " [0. 0. 0. 1. 0.]\n",
      " [0. 0. 0. 1. 0.]\n",
      " [0. 0. 0. 1. 0.]]\n"
     ]
    }
   ],
   "execution_count": 19
  },
  {
   "metadata": {
    "ExecuteTime": {
     "end_time": "2024-08-10T01:58:44.732167Z",
     "start_time": "2024-08-10T01:58:44.703184Z"
    }
   },
   "cell_type": "code",
   "source": [
    "import os\n",
    "\n",
    "os.chdir('../')"
   ],
   "id": "de653b152599902",
   "outputs": [],
   "execution_count": 1
  },
  {
   "metadata": {
    "ExecuteTime": {
     "end_time": "2024-08-10T01:58:54.559191Z",
     "start_time": "2024-08-10T01:58:45.084445Z"
    }
   },
   "cell_type": "code",
   "source": [
    "from model.model import build\n",
    "\n",
    "model = build(image_shape=(6, 256, 512, 1), \n",
    "              signal_shape=(3000, 1), \n",
    "              num_classes=5, \n",
    "              lnn_units=[512, 128], \n",
    "              fin_path='checkpoints/fin_20240810_050955', \n",
    "              kan_units=[32])"
   ],
   "id": "b1d6578e47a9307a",
   "outputs": [
    {
     "name": "stdout",
     "output_type": "stream",
     "text": [
      "Model: \"model_1\"\n",
      "__________________________________________________________________________________________________\n",
      " Layer (type)                   Output Shape         Param #     Connected to                     \n",
      "==================================================================================================\n",
      " input_1 (InputLayer)           [(None, 6, 256, 512  0           []                               \n",
      "                                , 1)]                                                             \n",
      "                                                                                                  \n",
      " time_distributed (TimeDistribu  (None, 6, 64, 128,   0          ['input_1[0][0]']                \n",
      " ted)                           1)                                                                \n",
      "                                                                                                  \n",
      " time_distributed_1 (TimeDistri  (None, 6, 64, 128,   80         ['time_distributed[0][0]']       \n",
      " buted)                         8)                                                                \n",
      "                                                                                                  \n",
      " time_distributed_2 (TimeDistri  (None, 6, 32, 64, 8  0          ['time_distributed_1[0][0]']     \n",
      " buted)                         )                                                                 \n",
      "                                                                                                  \n",
      " time_distributed_3 (TimeDistri  (None, 6, 32, 64, 8  32         ['time_distributed_2[0][0]']     \n",
      " buted)                         )                                                                 \n",
      "                                                                                                  \n",
      " time_distributed_4 (TimeDistri  (None, 6, 32, 64, 1  1168       ['time_distributed_3[0][0]']     \n",
      " buted)                         6)                                                                \n",
      "                                                                                                  \n",
      " time_distributed_5 (TimeDistri  (None, 6, 16, 32, 1  0          ['time_distributed_4[0][0]']     \n",
      " buted)                         6)                                                                \n",
      "                                                                                                  \n",
      " time_distributed_6 (TimeDistri  (None, 6, 16, 32, 1  64         ['time_distributed_5[0][0]']     \n",
      " buted)                         6)                                                                \n",
      "                                                                                                  \n",
      " time_distributed_7 (TimeDistri  (None, 6, 16, 32, 3  4640       ['time_distributed_6[0][0]']     \n",
      " buted)                         2)                                                                \n",
      "                                                                                                  \n",
      " time_distributed_8 (TimeDistri  (None, 6, 8, 16, 32  0          ['time_distributed_7[0][0]']     \n",
      " buted)                         )                                                                 \n",
      "                                                                                                  \n",
      " time_distributed_9 (TimeDistri  (None, 6, 8, 16, 32  128        ['time_distributed_8[0][0]']     \n",
      " buted)                         )                                                                 \n",
      "                                                                                                  \n",
      " time_distributed_10 (TimeDistr  (None, 6, 8, 16, 64  18496      ['time_distributed_9[0][0]']     \n",
      " ibuted)                        )                                                                 \n",
      "                                                                                                  \n",
      " time_distributed_11 (TimeDistr  (None, 6, 4, 8, 64)  0          ['time_distributed_10[0][0]']    \n",
      " ibuted)                                                                                          \n",
      "                                                                                                  \n",
      " time_distributed_12 (TimeDistr  (None, 6, 4, 8, 64)  256        ['time_distributed_11[0][0]']    \n",
      " ibuted)                                                                                          \n",
      "                                                                                                  \n",
      " time_distributed_13 (TimeDistr  (None, 6, 4, 8, 128  73856      ['time_distributed_12[0][0]']    \n",
      " ibuted)                        )                                                                 \n",
      "                                                                                                  \n",
      " time_distributed_14 (TimeDistr  (None, 6, 2, 4, 128  0          ['time_distributed_13[0][0]']    \n",
      " ibuted)                        )                                                                 \n",
      "                                                                                                  \n",
      " time_distributed_15 (TimeDistr  (None, 6, 2, 4, 128  512        ['time_distributed_14[0][0]']    \n",
      " ibuted)                        )                                                                 \n",
      "                                                                                                  \n",
      " input_2 (InputLayer)           [(None, 3000, 1)]    0           []                               \n",
      "                                                                                                  \n",
      " time_distributed_16 (TimeDistr  (None, 6, 128)      0           ['time_distributed_15[0][0]']    \n",
      " ibuted)                                                                                          \n",
      "                                                                                                  \n",
      " model (Functional)             (None, 3000, 64)     173760      ['input_2[0][0]']                \n",
      "                                                                                                  \n",
      " flatten (Flatten)              (None, 768)          0           ['time_distributed_16[0][0]']    \n",
      "                                                                                                  \n",
      " rnn (RNN)                      (None, 3000, 128)    1052418     ['input_2[0][0]']                \n",
      "                                                                                                  \n",
      " global_average_pooling1d_1 (Gl  (None, 64)          0           ['model[0][0]']                  \n",
      " obalAveragePooling1D)                                                                            \n",
      "                                                                                                  \n",
      " dense (Dense)                  (None, 128)          98432       ['flatten[0][0]']                \n",
      "                                                                                                  \n",
      " global_average_pooling1d (Glob  (None, 128)         0           ['rnn[0][0]']                    \n",
      " alAveragePooling1D)                                                                              \n",
      "                                                                                                  \n",
      " dense_1 (Dense)                (None, 128)          8320        ['global_average_pooling1d_1[0][0\n",
      "                                                                 ]']                              \n",
      "                                                                                                  \n",
      " concatenate (Concatenate)      (None, 384)          0           ['dense[0][0]',                  \n",
      "                                                                  'global_average_pooling1d[0][0]'\n",
      "                                                                 , 'dense_1[0][0]']               \n",
      "                                                                                                  \n",
      " dense_kan (DenseKAN)           (None, 32)           115232      ['concatenate[0][0]']            \n",
      "                                                                                                  \n",
      " dense_kan_1 (DenseKAN)         (None, 5)            1829        ['dense_kan[0][0]']              \n",
      "                                                                                                  \n",
      "==================================================================================================\n",
      "Total params: 1,549,223\n",
      "Trainable params: 1,543,607\n",
      "Non-trainable params: 5,616\n",
      "__________________________________________________________________________________________________\n",
      "None\n"
     ]
    }
   ],
   "execution_count": 2
  },
  {
   "metadata": {},
   "cell_type": "code",
   "outputs": [],
   "execution_count": null,
   "source": [
    "CFG_stage = {\n",
    "    \"shape\": (128, 128, 2),\n",
    "    \"batch_size\": 32,\n",
    "    \"cls_num\": 5,\n",
    "    \"num_epochs\": 100,\n",
    "    \"learning_rate\": 0.001,\n",
    "    \"loss\": \"categorical_crossentropy\",\n",
    "    \"optimizer\": 'adam',\n",
    "    \"monitor\": \"val_loss\",\n",
    "    \"mode\": \"min\",\n",
    "    \"label_smoothing\": 0.0,\n",
    "    \"metrics\": ['accuracy']\n",
    "}"
   ],
   "id": "5376faa1ea2b5a9b"
  }
 ],
 "metadata": {
  "kernelspec": {
   "display_name": "Python 3",
   "language": "python",
   "name": "python3"
  },
  "language_info": {
   "codemirror_mode": {
    "name": "ipython",
    "version": 2
   },
   "file_extension": ".py",
   "mimetype": "text/x-python",
   "name": "python",
   "nbconvert_exporter": "python",
   "pygments_lexer": "ipython2",
   "version": "2.7.6"
  }
 },
 "nbformat": 4,
 "nbformat_minor": 5
}
